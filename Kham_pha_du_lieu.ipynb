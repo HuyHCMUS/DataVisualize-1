{
 "cells": [
  {
   "cell_type": "code",
   "execution_count": 1,
   "id": "6cf14cb7",
   "metadata": {},
   "outputs": [],
   "source": [
    "import pandas as pd\n",
    "import numpy as np\n",
    "import matplotlib.pyplot as plt"
   ]
  },
  {
   "cell_type": "code",
   "execution_count": 2,
   "id": "14c0c436",
   "metadata": {},
   "outputs": [],
   "source": [
    "data = pd.read_csv(\"customer_shopping_data.csv\")"
   ]
  },
  {
   "cell_type": "markdown",
   "id": "9e37c076",
   "metadata": {},
   "source": [
    "## Dữ liệu có bao nhiêu cột? Bao nhiêu dòng?"
   ]
  },
  {
   "cell_type": "code",
   "execution_count": 3,
   "id": "983b511f",
   "metadata": {},
   "outputs": [
    {
     "name": "stdout",
     "output_type": "stream",
     "text": [
      "Dữ liệu có 99457 dòng và 10 cột\n"
     ]
    }
   ],
   "source": [
    "print(\"Dữ liệu có\", data.shape[0], \"dòng và\", data.shape[1], \"cột\")"
   ]
  },
  {
   "cell_type": "markdown",
   "id": "088c8538",
   "metadata": {},
   "source": [
    "## Có dữ liệu nào bị thiếu không?"
   ]
  },
  {
   "cell_type": "code",
   "execution_count": 4,
   "id": "5774994d",
   "metadata": {},
   "outputs": [
    {
     "data": {
      "text/plain": [
       "invoice_no        0\n",
       "customer_id       0\n",
       "gender            0\n",
       "age               0\n",
       "category          0\n",
       "quantity          0\n",
       "price             0\n",
       "payment_method    0\n",
       "invoice_date      0\n",
       "shopping_mall     0\n",
       "dtype: int64"
      ]
     },
     "execution_count": 4,
     "metadata": {},
     "output_type": "execute_result"
    }
   ],
   "source": [
    "data.isna().sum()"
   ]
  },
  {
   "cell_type": "markdown",
   "id": "bb58bfa2",
   "metadata": {},
   "source": [
    "Không có cột nào bị thiếu dữ liệu"
   ]
  },
  {
   "cell_type": "markdown",
   "id": "3fc13ff5",
   "metadata": {},
   "source": [
    "## Dữ liệu có trùng lặp không"
   ]
  },
  {
   "cell_type": "code",
   "execution_count": 5,
   "id": "0ef49088",
   "metadata": {},
   "outputs": [
    {
     "data": {
      "text/plain": [
       "False"
      ]
     },
     "execution_count": 5,
     "metadata": {},
     "output_type": "execute_result"
    }
   ],
   "source": [
    "data.duplicated().any()"
   ]
  },
  {
   "cell_type": "markdown",
   "id": "7013f1ac",
   "metadata": {},
   "source": [
    "Dữ liệu không có dòng nào trùng lặp"
   ]
  },
  {
   "cell_type": "markdown",
   "id": "6cb09398",
   "metadata": {},
   "source": [
    "## Từng cột đang có kiểu dữ liệu là gì? Có phù hợp hay chưa?"
   ]
  },
  {
   "cell_type": "code",
   "execution_count": 6,
   "id": "2d7fcfd9",
   "metadata": {},
   "outputs": [
    {
     "name": "stdout",
     "output_type": "stream",
     "text": [
      "<class 'pandas.core.frame.DataFrame'>\n",
      "RangeIndex: 99457 entries, 0 to 99456\n",
      "Data columns (total 10 columns):\n",
      " #   Column          Non-Null Count  Dtype  \n",
      "---  ------          --------------  -----  \n",
      " 0   invoice_no      99457 non-null  object \n",
      " 1   customer_id     99457 non-null  object \n",
      " 2   gender          99457 non-null  object \n",
      " 3   age             99457 non-null  int64  \n",
      " 4   category        99457 non-null  object \n",
      " 5   quantity        99457 non-null  int64  \n",
      " 6   price           99457 non-null  float64\n",
      " 7   payment_method  99457 non-null  object \n",
      " 8   invoice_date    99457 non-null  object \n",
      " 9   shopping_mall   99457 non-null  object \n",
      "dtypes: float64(1), int64(2), object(7)\n",
      "memory usage: 7.6+ MB\n"
     ]
    }
   ],
   "source": [
    "data.info()"
   ]
  },
  {
   "cell_type": "markdown",
   "id": "c70948c5",
   "metadata": {},
   "source": [
    "Ta có thể thấy cột \"invoice_date\" đang có kiểu dữ liệu chưa phù hợp, vì thế ta sẽ chuyển nó thành kiểu datetime"
   ]
  },
  {
   "cell_type": "code",
   "execution_count": 7,
   "id": "bf921419",
   "metadata": {},
   "outputs": [],
   "source": [
    "data[\"invoice_date\"] = pd.to_datetime(data[\"invoice_date\"])"
   ]
  },
  {
   "cell_type": "markdown",
   "id": "cf7c5f24",
   "metadata": {},
   "source": [
    "## Với mỗi cột có kiểu dữ liệu được phân bố như thế nào?"
   ]
  },
  {
   "cell_type": "markdown",
   "id": "26b56f55",
   "metadata": {},
   "source": [
    "### Đối với cột dữ liệu dạng số bao gồm: age, quantity, price"
   ]
  },
  {
   "cell_type": "code",
   "execution_count": 8,
   "id": "23d6f137",
   "metadata": {},
   "outputs": [],
   "source": [
    "def col_info(col, array):\n",
    "    temp = np.array(array[col])\n",
    "    temp = temp[np.invert(np.isnan(temp))]\n",
    "    data = []\n",
    "    # missing_ratio\n",
    "    data.append(round((100 - (len(temp) / len(array[col]) * 100)), 1))\n",
    "    # min\n",
    "    data.append(np.min(temp))\n",
    "    # 3 quartile\n",
    "    for i in range(25, 100, 25):\n",
    "        data.append(np.percentile(temp, i, interpolation='linear'))\n",
    "    # max\n",
    "    data.append(np.max(temp))\n",
    "    return data"
   ]
  },
  {
   "cell_type": "code",
   "execution_count": 9,
   "id": "fa121f2f",
   "metadata": {},
   "outputs": [
    {
     "data": {
      "text/html": [
       "<div>\n",
       "<style scoped>\n",
       "    .dataframe tbody tr th:only-of-type {\n",
       "        vertical-align: middle;\n",
       "    }\n",
       "\n",
       "    .dataframe tbody tr th {\n",
       "        vertical-align: top;\n",
       "    }\n",
       "\n",
       "    .dataframe thead th {\n",
       "        text-align: right;\n",
       "    }\n",
       "</style>\n",
       "<table border=\"1\" class=\"dataframe\">\n",
       "  <thead>\n",
       "    <tr style=\"text-align: right;\">\n",
       "      <th></th>\n",
       "      <th>age</th>\n",
       "      <th>quantity</th>\n",
       "      <th>price</th>\n",
       "    </tr>\n",
       "  </thead>\n",
       "  <tbody>\n",
       "    <tr>\n",
       "      <th>missing_ratio</th>\n",
       "      <td>0.0</td>\n",
       "      <td>0.0</td>\n",
       "      <td>0.00</td>\n",
       "    </tr>\n",
       "    <tr>\n",
       "      <th>min</th>\n",
       "      <td>18.0</td>\n",
       "      <td>1.0</td>\n",
       "      <td>5.23</td>\n",
       "    </tr>\n",
       "    <tr>\n",
       "      <th>lower_quartile</th>\n",
       "      <td>30.0</td>\n",
       "      <td>2.0</td>\n",
       "      <td>45.45</td>\n",
       "    </tr>\n",
       "    <tr>\n",
       "      <th>median</th>\n",
       "      <td>43.0</td>\n",
       "      <td>3.0</td>\n",
       "      <td>203.30</td>\n",
       "    </tr>\n",
       "    <tr>\n",
       "      <th>upper_quartile</th>\n",
       "      <td>56.0</td>\n",
       "      <td>4.0</td>\n",
       "      <td>1200.32</td>\n",
       "    </tr>\n",
       "    <tr>\n",
       "      <th>max</th>\n",
       "      <td>69.0</td>\n",
       "      <td>5.0</td>\n",
       "      <td>5250.00</td>\n",
       "    </tr>\n",
       "  </tbody>\n",
       "</table>\n",
       "</div>"
      ],
      "text/plain": [
       "                 age  quantity    price\n",
       "missing_ratio    0.0       0.0     0.00\n",
       "min             18.0       1.0     5.23\n",
       "lower_quartile  30.0       2.0    45.45\n",
       "median          43.0       3.0   203.30\n",
       "upper_quartile  56.0       4.0  1200.32\n",
       "max             69.0       5.0  5250.00"
      ]
     },
     "execution_count": 9,
     "metadata": {},
     "output_type": "execute_result"
    }
   ],
   "source": [
    "num_col_info_df = pd.DataFrame(index = ['missing_ratio', 'min', 'lower_quartile', 'median', 'upper_quartile', 'max'])\n",
    "for i in data._get_numeric_data():\n",
    "    num_col_info_df[i] = col_info(i, data)\n",
    "num_col_info_df"
   ]
  },
  {
   "cell_type": "code",
   "execution_count": 17,
   "id": "c18df6e9",
   "metadata": {},
   "outputs": [
    {
     "data": {
      "text/plain": [
       "Text(0.5, 0.98, 'Biểu đồ phân bố giá trị của các cột dạng số')"
      ]
     },
     "execution_count": 17,
     "metadata": {},
     "output_type": "execute_result"
    },
    {
     "data": {
      "image/png": "[encoded data removed]",
      "text/plain": [
       "<Figure size 1500x500 with 3 Axes>"
      ]
     },
     "metadata": {},
     "output_type": "display_data"
    }
   ],
   "source": [
    "n = 1\n",
    "fig = plt.figure(figsize=(15, 5))\n",
    "for i in data._get_numeric_data():\n",
    "    ax = plt.subplot(1, 3, n)\n",
    "    ax.set_title(i)\n",
    "    plt.boxplot(data[i])\n",
    "    n += 1\n",
    "fig.suptitle(\"Biểu đồ phân bố giá trị của các cột dạng số\")"
   ]
  },
  {
   "cell_type": "markdown",
   "id": "183239d6",
   "metadata": {},
   "source": [
    "### Đối với các cột kiểu categorical"
   ]
  },
  {
   "cell_type": "code",
   "execution_count": 11,
   "id": "9e7edf31",
   "metadata": {},
   "outputs": [],
   "source": [
    "def col_info(col, array):\n",
    "    temp = pd.DataFrame(array[col])\n",
    "    temp = temp.dropna()\n",
    "    temp = np.array(temp[col])\n",
    "    data = []\n",
    "    # missing_ratio\n",
    "    data.append(round((100 - (len(temp) / len(array[col]) * 100)), 1))\n",
    "    # num_values\n",
    "    temp = np.unique(temp, return_counts=True)\n",
    "    data.append(len(temp[0]))\n",
    "    # value\n",
    "    temp = pd.Series(data = temp[1], index = temp[0])\n",
    "    data.append(temp)\n",
    "    # num_values\n",
    "    return data"
   ]
  },
  {
   "cell_type": "code",
   "execution_count": 12,
   "id": "06778874",
   "metadata": {},
   "outputs": [
    {
     "data": {
      "text/html": [
       "<div>\n",
       "<style scoped>\n",
       "    .dataframe tbody tr th:only-of-type {\n",
       "        vertical-align: middle;\n",
       "    }\n",
       "\n",
       "    .dataframe tbody tr th {\n",
       "        vertical-align: top;\n",
       "    }\n",
       "\n",
       "    .dataframe thead th {\n",
       "        text-align: right;\n",
       "    }\n",
       "</style>\n",
       "<table border=\"1\" class=\"dataframe\">\n",
       "  <thead>\n",
       "    <tr style=\"text-align: right;\">\n",
       "      <th></th>\n",
       "      <th>invoice_no</th>\n",
       "      <th>customer_id</th>\n",
       "      <th>gender</th>\n",
       "      <th>category</th>\n",
       "      <th>payment_method</th>\n",
       "      <th>shopping_mall</th>\n",
       "    </tr>\n",
       "  </thead>\n",
       "  <tbody>\n",
       "    <tr>\n",
       "      <th>missing_ratio</th>\n",
       "      <td>0.0</td>\n",
       "      <td>0.0</td>\n",
       "      <td>0.0</td>\n",
       "      <td>0.0</td>\n",
       "      <td>0.0</td>\n",
       "      <td>0.0</td>\n",
       "    </tr>\n",
       "    <tr>\n",
       "      <th>num_values</th>\n",
       "      <td>99457</td>\n",
       "      <td>99457</td>\n",
       "      <td>2</td>\n",
       "      <td>8</td>\n",
       "      <td>3</td>\n",
       "      <td>10</td>\n",
       "    </tr>\n",
       "    <tr>\n",
       "      <th>value</th>\n",
       "      <td>I100008    1\n",
       "I100014    1\n",
       "I100015    1\n",
       "I100024...</td>\n",
       "      <td>C100004    1\n",
       "C100005    1\n",
       "C100006    1\n",
       "C100012...</td>\n",
       "      <td>Female    59482\n",
       "Male      39975\n",
       "dtype: int64</td>\n",
       "      <td>Books               4981\n",
       "Clothing           34...</td>\n",
       "      <td>Cash           44447\n",
       "Credit Card    34931\n",
       "Debi...</td>\n",
       "      <td>Cevahir AVM           4991\n",
       "Emaar Square Mall  ...</td>\n",
       "    </tr>\n",
       "  </tbody>\n",
       "</table>\n",
       "</div>"
      ],
      "text/plain": [
       "                                                      invoice_no  \\\n",
       "missing_ratio                                                0.0   \n",
       "num_values                                                 99457   \n",
       "value          I100008    1\n",
       "I100014    1\n",
       "I100015    1\n",
       "I100024...   \n",
       "\n",
       "                                                     customer_id  \\\n",
       "missing_ratio                                                0.0   \n",
       "num_values                                                 99457   \n",
       "value          C100004    1\n",
       "C100005    1\n",
       "C100006    1\n",
       "C100012...   \n",
       "\n",
       "                                                     gender  \\\n",
       "missing_ratio                                           0.0   \n",
       "num_values                                                2   \n",
       "value          Female    59482\n",
       "Male      39975\n",
       "dtype: int64   \n",
       "\n",
       "                                                        category  \\\n",
       "missing_ratio                                                0.0   \n",
       "num_values                                                     8   \n",
       "value          Books               4981\n",
       "Clothing           34...   \n",
       "\n",
       "                                                  payment_method  \\\n",
       "missing_ratio                                                0.0   \n",
       "num_values                                                     3   \n",
       "value          Cash           44447\n",
       "Credit Card    34931\n",
       "Debi...   \n",
       "\n",
       "                                                   shopping_mall  \n",
       "missing_ratio                                                0.0  \n",
       "num_values                                                    10  \n",
       "value          Cevahir AVM           4991\n",
       "Emaar Square Mall  ...  "
      ]
     },
     "execution_count": 12,
     "metadata": {},
     "output_type": "execute_result"
    }
   ],
   "source": [
    "cat_col_info_df = pd.DataFrame(index = ['missing_ratio', 'num_values', 'value'])\n",
    "for i in data.select_dtypes(include=['object']):\n",
    "    cat_col_info_df[i] = col_info(i, data)\n",
    "\n",
    "cat_col_info_df"
   ]
  }
 ],
 "metadata": {
  "kernelspec": {
   "display_name": "Python 3 (ipykernel)",
   "language": "python",
   "name": "python3"
  },
  "language_info": {
   "codemirror_mode": {
    "name": "ipython",
    "version": 3
   },
   "file_extension": ".py",
   "mimetype": "text/x-python",
   "name": "python",
   "nbconvert_exporter": "python",
   "pygments_lexer": "ipython3",
   "version": "3.8.8"
  }
 },
 "nbformat": 4,
 "nbformat_minor": 5
}
