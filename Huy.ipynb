{
 "cells": [
  {
   "cell_type": "code",
   "execution_count": 26,
   "id": "f041c447",
   "metadata": {},
   "outputs": [],
   "source": [
    "import pandas as pd\n",
    "import numpy as np\n",
    "import seaborn as sns\n",
    "import matplotlib.pyplot as plt\n",
    "import re\n",
    "pd.set_option('display.max_columns', None)  \n",
    "pd.set_option('display.max_colwidth', None)"
   ]
  },
  {
   "cell_type": "code",
   "execution_count": 27,
   "id": "5c6b677d",
   "metadata": {
    "scrolled": true
   },
   "outputs": [
    {
     "data": {
      "text/html": [
       "<div>\n",
       "<style scoped>\n",
       "    .dataframe tbody tr th:only-of-type {\n",
       "        vertical-align: middle;\n",
       "    }\n",
       "\n",
       "    .dataframe tbody tr th {\n",
       "        vertical-align: top;\n",
       "    }\n",
       "\n",
       "    .dataframe thead th {\n",
       "        text-align: right;\n",
       "    }\n",
       "</style>\n",
       "<table border=\"1\" class=\"dataframe\">\n",
       "  <thead>\n",
       "    <tr style=\"text-align: right;\">\n",
       "      <th></th>\n",
       "      <th>Age</th>\n",
       "      <th>Attrition</th>\n",
       "      <th>BusinessTravel</th>\n",
       "      <th>DailyRate</th>\n",
       "      <th>Department</th>\n",
       "      <th>DistanceFromHome</th>\n",
       "      <th>Education</th>\n",
       "      <th>EducationField</th>\n",
       "      <th>EmployeeCount</th>\n",
       "      <th>EmployeeNumber</th>\n",
       "      <th>EnvironmentSatisfaction</th>\n",
       "      <th>Gender</th>\n",
       "      <th>HourlyRate</th>\n",
       "      <th>JobInvolvement</th>\n",
       "      <th>JobLevel</th>\n",
       "      <th>JobRole</th>\n",
       "      <th>JobSatisfaction</th>\n",
       "      <th>MaritalStatus</th>\n",
       "      <th>MonthlyIncome</th>\n",
       "      <th>MonthlyRate</th>\n",
       "      <th>NumCompaniesWorked</th>\n",
       "      <th>Over18</th>\n",
       "      <th>OverTime</th>\n",
       "      <th>PercentSalaryHike</th>\n",
       "      <th>PerformanceRating</th>\n",
       "      <th>RelationshipSatisfaction</th>\n",
       "      <th>StandardHours</th>\n",
       "      <th>StockOptionLevel</th>\n",
       "      <th>TotalWorkingYears</th>\n",
       "      <th>TrainingTimesLastYear</th>\n",
       "      <th>WorkLifeBalance</th>\n",
       "      <th>YearsAtCompany</th>\n",
       "      <th>YearsInCurrentRole</th>\n",
       "      <th>YearsSinceLastPromotion</th>\n",
       "      <th>YearsWithCurrManager</th>\n",
       "    </tr>\n",
       "  </thead>\n",
       "  <tbody>\n",
       "    <tr>\n",
       "      <th>0</th>\n",
       "      <td>41</td>\n",
       "      <td>Yes</td>\n",
       "      <td>Travel_Rarely</td>\n",
       "      <td>1102</td>\n",
       "      <td>Sales</td>\n",
       "      <td>1</td>\n",
       "      <td>2</td>\n",
       "      <td>Life Sciences</td>\n",
       "      <td>1</td>\n",
       "      <td>1</td>\n",
       "      <td>2</td>\n",
       "      <td>Female</td>\n",
       "      <td>94</td>\n",
       "      <td>3</td>\n",
       "      <td>2</td>\n",
       "      <td>Sales Executive</td>\n",
       "      <td>4</td>\n",
       "      <td>Single</td>\n",
       "      <td>5993</td>\n",
       "      <td>19479</td>\n",
       "      <td>8</td>\n",
       "      <td>Y</td>\n",
       "      <td>Yes</td>\n",
       "      <td>11</td>\n",
       "      <td>3</td>\n",
       "      <td>1</td>\n",
       "      <td>80</td>\n",
       "      <td>0</td>\n",
       "      <td>8</td>\n",
       "      <td>0</td>\n",
       "      <td>1</td>\n",
       "      <td>6</td>\n",
       "      <td>4</td>\n",
       "      <td>0</td>\n",
       "      <td>5</td>\n",
       "    </tr>\n",
       "    <tr>\n",
       "      <th>1</th>\n",
       "      <td>49</td>\n",
       "      <td>No</td>\n",
       "      <td>Travel_Frequently</td>\n",
       "      <td>279</td>\n",
       "      <td>Research &amp; Development</td>\n",
       "      <td>8</td>\n",
       "      <td>1</td>\n",
       "      <td>Life Sciences</td>\n",
       "      <td>1</td>\n",
       "      <td>2</td>\n",
       "      <td>3</td>\n",
       "      <td>Male</td>\n",
       "      <td>61</td>\n",
       "      <td>2</td>\n",
       "      <td>2</td>\n",
       "      <td>Research Scientist</td>\n",
       "      <td>2</td>\n",
       "      <td>Married</td>\n",
       "      <td>5130</td>\n",
       "      <td>24907</td>\n",
       "      <td>1</td>\n",
       "      <td>Y</td>\n",
       "      <td>No</td>\n",
       "      <td>23</td>\n",
       "      <td>4</td>\n",
       "      <td>4</td>\n",
       "      <td>80</td>\n",
       "      <td>1</td>\n",
       "      <td>10</td>\n",
       "      <td>3</td>\n",
       "      <td>3</td>\n",
       "      <td>10</td>\n",
       "      <td>7</td>\n",
       "      <td>1</td>\n",
       "      <td>7</td>\n",
       "    </tr>\n",
       "    <tr>\n",
       "      <th>2</th>\n",
       "      <td>37</td>\n",
       "      <td>Yes</td>\n",
       "      <td>Travel_Rarely</td>\n",
       "      <td>1373</td>\n",
       "      <td>Research &amp; Development</td>\n",
       "      <td>2</td>\n",
       "      <td>2</td>\n",
       "      <td>Other</td>\n",
       "      <td>1</td>\n",
       "      <td>4</td>\n",
       "      <td>4</td>\n",
       "      <td>Male</td>\n",
       "      <td>92</td>\n",
       "      <td>2</td>\n",
       "      <td>1</td>\n",
       "      <td>Laboratory Technician</td>\n",
       "      <td>3</td>\n",
       "      <td>Single</td>\n",
       "      <td>2090</td>\n",
       "      <td>2396</td>\n",
       "      <td>6</td>\n",
       "      <td>Y</td>\n",
       "      <td>Yes</td>\n",
       "      <td>15</td>\n",
       "      <td>3</td>\n",
       "      <td>2</td>\n",
       "      <td>80</td>\n",
       "      <td>0</td>\n",
       "      <td>7</td>\n",
       "      <td>3</td>\n",
       "      <td>3</td>\n",
       "      <td>0</td>\n",
       "      <td>0</td>\n",
       "      <td>0</td>\n",
       "      <td>0</td>\n",
       "    </tr>\n",
       "    <tr>\n",
       "      <th>3</th>\n",
       "      <td>33</td>\n",
       "      <td>No</td>\n",
       "      <td>Travel_Frequently</td>\n",
       "      <td>1392</td>\n",
       "      <td>Research &amp; Development</td>\n",
       "      <td>3</td>\n",
       "      <td>4</td>\n",
       "      <td>Life Sciences</td>\n",
       "      <td>1</td>\n",
       "      <td>5</td>\n",
       "      <td>4</td>\n",
       "      <td>Female</td>\n",
       "      <td>56</td>\n",
       "      <td>3</td>\n",
       "      <td>1</td>\n",
       "      <td>Research Scientist</td>\n",
       "      <td>3</td>\n",
       "      <td>Married</td>\n",
       "      <td>2909</td>\n",
       "      <td>23159</td>\n",
       "      <td>1</td>\n",
       "      <td>Y</td>\n",
       "      <td>Yes</td>\n",
       "      <td>11</td>\n",
       "      <td>3</td>\n",
       "      <td>3</td>\n",
       "      <td>80</td>\n",
       "      <td>0</td>\n",
       "      <td>8</td>\n",
       "      <td>3</td>\n",
       "      <td>3</td>\n",
       "      <td>8</td>\n",
       "      <td>7</td>\n",
       "      <td>3</td>\n",
       "      <td>0</td>\n",
       "    </tr>\n",
       "    <tr>\n",
       "      <th>4</th>\n",
       "      <td>27</td>\n",
       "      <td>No</td>\n",
       "      <td>Travel_Rarely</td>\n",
       "      <td>591</td>\n",
       "      <td>Research &amp; Development</td>\n",
       "      <td>2</td>\n",
       "      <td>1</td>\n",
       "      <td>Medical</td>\n",
       "      <td>1</td>\n",
       "      <td>7</td>\n",
       "      <td>1</td>\n",
       "      <td>Male</td>\n",
       "      <td>40</td>\n",
       "      <td>3</td>\n",
       "      <td>1</td>\n",
       "      <td>Laboratory Technician</td>\n",
       "      <td>2</td>\n",
       "      <td>Married</td>\n",
       "      <td>3468</td>\n",
       "      <td>16632</td>\n",
       "      <td>9</td>\n",
       "      <td>Y</td>\n",
       "      <td>No</td>\n",
       "      <td>12</td>\n",
       "      <td>3</td>\n",
       "      <td>4</td>\n",
       "      <td>80</td>\n",
       "      <td>1</td>\n",
       "      <td>6</td>\n",
       "      <td>3</td>\n",
       "      <td>3</td>\n",
       "      <td>2</td>\n",
       "      <td>2</td>\n",
       "      <td>2</td>\n",
       "      <td>2</td>\n",
       "    </tr>\n",
       "  </tbody>\n",
       "</table>\n",
       "</div>"
      ],
      "text/plain": [
       "   Age Attrition     BusinessTravel  DailyRate              Department  \\\n",
       "0   41       Yes      Travel_Rarely       1102                   Sales   \n",
       "1   49        No  Travel_Frequently        279  Research & Development   \n",
       "2   37       Yes      Travel_Rarely       1373  Research & Development   \n",
       "3   33        No  Travel_Frequently       1392  Research & Development   \n",
       "4   27        No      Travel_Rarely        591  Research & Development   \n",
       "\n",
       "   DistanceFromHome  Education EducationField  EmployeeCount  EmployeeNumber  \\\n",
       "0                 1          2  Life Sciences              1               1   \n",
       "1                 8          1  Life Sciences              1               2   \n",
       "2                 2          2          Other              1               4   \n",
       "3                 3          4  Life Sciences              1               5   \n",
       "4                 2          1        Medical              1               7   \n",
       "\n",
       "   EnvironmentSatisfaction  Gender  HourlyRate  JobInvolvement  JobLevel  \\\n",
       "0                        2  Female          94               3         2   \n",
       "1                        3    Male          61               2         2   \n",
       "2                        4    Male          92               2         1   \n",
       "3                        4  Female          56               3         1   \n",
       "4                        1    Male          40               3         1   \n",
       "\n",
       "                 JobRole  JobSatisfaction MaritalStatus  MonthlyIncome  \\\n",
       "0        Sales Executive                4        Single           5993   \n",
       "1     Research Scientist                2       Married           5130   \n",
       "2  Laboratory Technician                3        Single           2090   \n",
       "3     Research Scientist                3       Married           2909   \n",
       "4  Laboratory Technician                2       Married           3468   \n",
       "\n",
       "   MonthlyRate  NumCompaniesWorked Over18 OverTime  PercentSalaryHike  \\\n",
       "0        19479                   8      Y      Yes                 11   \n",
       "1        24907                   1      Y       No                 23   \n",
       "2         2396                   6      Y      Yes                 15   \n",
       "3        23159                   1      Y      Yes                 11   \n",
       "4        16632                   9      Y       No                 12   \n",
       "\n",
       "   PerformanceRating  RelationshipSatisfaction  StandardHours  \\\n",
       "0                  3                         1             80   \n",
       "1                  4                         4             80   \n",
       "2                  3                         2             80   \n",
       "3                  3                         3             80   \n",
       "4                  3                         4             80   \n",
       "\n",
       "   StockOptionLevel  TotalWorkingYears  TrainingTimesLastYear  \\\n",
       "0                 0                  8                      0   \n",
       "1                 1                 10                      3   \n",
       "2                 0                  7                      3   \n",
       "3                 0                  8                      3   \n",
       "4                 1                  6                      3   \n",
       "\n",
       "   WorkLifeBalance  YearsAtCompany  YearsInCurrentRole  \\\n",
       "0                1               6                   4   \n",
       "1                3              10                   7   \n",
       "2                3               0                   0   \n",
       "3                3               8                   7   \n",
       "4                3               2                   2   \n",
       "\n",
       "   YearsSinceLastPromotion  YearsWithCurrManager  \n",
       "0                        0                     5  \n",
       "1                        1                     7  \n",
       "2                        0                     0  \n",
       "3                        3                     0  \n",
       "4                        2                     2  "
      ]
     },
     "execution_count": 27,
     "metadata": {},
     "output_type": "execute_result"
    }
   ],
   "source": [
    "data = pd.read_csv(\"HR_Analytics.csv\")\n",
    "data.head()"
   ]
  },
  {
   "cell_type": "markdown",
   "id": "73f9f8ab",
   "metadata": {},
   "source": [
    "### Box plot"
   ]
  },
  {
   "cell_type": "markdown",
   "id": "84673f41",
   "metadata": {},
   "source": [
    "Biểu đồ box plot thể hiện sự phân bố cuả dữ liệu. Thể hiện qua 5 vị trí đó là: giá trị nhỏ nhất (min), tứ phân vị thứ nhất (Q1), trung vị (median), tứ phân vị thứ 3 (Q3) và giá trị lớn nhất (max)."
   ]
  },
  {
   "cell_type": "markdown",
   "id": "1264f400",
   "metadata": {},
   "source": [
    "**Biểu đồ lương hằng tháng theo giới tính**"
   ]
  },
  {
   "cell_type": "markdown",
   "id": "2e8ab265",
   "metadata": {},
   "source": [
    "Trường dữ liệu: `Gender`, `MonthlyRate`\n",
    "\n",
    "Ý nghĩa: có thể so sánh mức lương theo tháng giữa nam và nữ.\n",
    "\n",
    "Lý do chọn biểu đồ: Với biểu đồ box plot ta có thể thấy được lương hằng tháng của nhân viên phân bố thế nào, kết hợp với trường dữ liệu `Gender` từ đó so sánh mức lương hằng tháng giữa nam và nữ."
   ]
  },
  {
   "cell_type": "code",
   "execution_count": null,
   "id": "dd4f72de",
   "metadata": {},
   "outputs": [],
   "source": [
    "male = data[data['Gender'] == 'Male']['MonthlyRate']\n",
    "female = data[data['Gender'] == 'Female']['MonthlyRate']"
   ]
  },
  {
   "cell_type": "code",
   "execution_count": 31,
   "id": "864e0a67",
   "metadata": {},
   "outputs": [
    {
     "data": {
      "image/png": "[encoded data removed]",
      "text/plain": [
       "<Figure size 640x480 with 1 Axes>"
      ]
     },
     "metadata": {},
     "output_type": "display_data"
    }
   ],
   "source": [
    "plt.title(\"Lương hằng tháng theo giới tính\")\n",
    "plt.boxplot([male.values,female.values],labels=['Male','Female']) \n",
    "plt.show()"
   ]
  },
  {
   "cell_type": "markdown",
   "id": "8dd8ac49",
   "metadata": {},
   "source": [
    "Nhận xét: Phân bố mức lương theo tháng giữa nam và nữ tương đối giống nhau. Điều này chứng tỏ nam nữ đều bình đẳng như nhau, không có sự phân biệt đối với mức lương hàng tháng đối với nam và nữ"
   ]
  },
  {
   "cell_type": "markdown",
   "id": "85559b86",
   "metadata": {},
   "source": [
    "### Heat map"
   ]
  },
  {
   "cell_type": "markdown",
   "id": "300023d2",
   "metadata": {},
   "source": [
    "Biểu đồ heat map là một biểu đồ hai chiều được sử dụng để trình bày dữ liệu trong đó màu sắc của mỗi ô được sử dụng để đại diện cho giá trị của dữ liệu đó. Chúng có thể giúp cho người dùng nhìn thấy các mối quan hệ và xu hướng trong dữ liệu một cách nhanh chóng và dễ dàng hơn so với việc sử dụng các biểu đồ khác."
   ]
  },
  {
   "cell_type": "markdown",
   "id": "3aab8bc2",
   "metadata": {},
   "source": [
    "**Biểu đồ sự hài lòng với công việc và sự hài lòng với môi trường làm việc của nhân viên:**"
   ]
  },
  {
   "cell_type": "markdown",
   "id": "66590352",
   "metadata": {},
   "source": [
    "Trường dữ liệu: `JobSatisfaction`, `EnvironmentSatisfaction`\n",
    "\n",
    "Ý nghĩa: Vừa cho thấy được sự hài lòng của nhân viên với công việc, vừa cho thấy được sự hài lòng của nhân viên với môi trường làm việc trên cùng biểu đồ. Cảm nhận của nhân viên với môi trường làm việc và công việc của mình làm.\n",
    "\n",
    "Lý do chọn biểu đồ: \n",
    "- Mỗi trường dữ liệu đều có ít giá trị, nên sự lặp lại của các cặp giá trị là nhiều.\n",
    "- Để thể hiện sự hài lòng với công việc và sự hài lòng với môi trường làm việc trên cùng 1 biểu đồ, ta sẽ đếm từng cặp dữ liệu giữa 2 trường, qua đó biết được dữ liệu thường xuất hiện ở những cặp giá trị nào. Khi đó ta sẽ có 1 ma trận giá trị, lúc này dùng đến heatmap"
   ]
  },
  {
   "cell_type": "code",
   "execution_count": 36,
   "id": "d7c2690e",
   "metadata": {},
   "outputs": [
    {
     "data": {
      "text/plain": [
       "JobSatisfaction  EnvironmentSatisfaction\n",
       "1                1                           53\n",
       "                 2                           55\n",
       "                 3                           94\n",
       "                 4                           87\n",
       "2                1                           47\n",
       "                 2                           59\n",
       "                 3                           87\n",
       "                 4                           87\n",
       "3                1                          100\n",
       "                 2                           84\n",
       "                 3                          128\n",
       "                 4                          130\n",
       "4                1                           84\n",
       "                 2                           89\n",
       "                 3                          144\n",
       "                 4                          142\n",
       "Name: EnvironmentSatisfaction, dtype: int64"
      ]
     },
     "execution_count": 36,
     "metadata": {},
     "output_type": "execute_result"
    }
   ],
   "source": [
    "x = data.groupby('JobSatisfaction')['EnvironmentSatisfaction'].value_counts().sort_index()\n",
    "x"
   ]
  },
  {
   "cell_type": "code",
   "execution_count": 15,
   "id": "e4c51a70",
   "metadata": {},
   "outputs": [
    {
     "data": {
      "text/plain": [
       "array([[ 53,  55,  94,  87],\n",
       "       [ 47,  59,  87,  87],\n",
       "       [100,  84, 128, 130],\n",
       "       [ 84,  89, 144, 142]])"
      ]
     },
     "execution_count": 15,
     "metadata": {},
     "output_type": "execute_result"
    }
   ],
   "source": [
    "y = np.array(x).reshape(4,4)\n",
    "y"
   ]
  },
  {
   "cell_type": "code",
   "execution_count": 37,
   "id": "5a652958",
   "metadata": {},
   "outputs": [
    {
     "data": {
      "image/png": "[encoded data removed]",
      "text/plain": [
       "<Figure size 640x480 with 2 Axes>"
      ]
     },
     "metadata": {},
     "output_type": "display_data"
    }
   ],
   "source": [
    "xlabel = ['(Env) 1',2,3,4]\n",
    "ylabel = ['1 (Job)',2,3,4]\n",
    "\n",
    "ax = sns.heatmap( y , linewidth = 0.5 , cmap = 'coolwarm', xticklabels=xlabel, yticklabels=ylabel )\n",
    "  \n",
    "plt.title( \"Sự hài lòng với công việc và sự hài lòng với môi trường làm việc của nhân viên \" )\n",
    "plt.show()"
   ]
  },
  {
   "cell_type": "markdown",
   "id": "f35697e1",
   "metadata": {},
   "source": [
    "Nhận xét: \n",
    "- Đa số các nhân viên đều vừa hài lòng với công việc của mình, vừa hài lòng với công việc của mình. Trong đó có vẻ như nhiều người hài lòng với môi trường hơn với công việc.\n",
    "- Số người vừa không hài lòng với công việc, vừa không hài lòng với mối trường làm việc chiếm tỷ lệ ít nhất.\n",
    "- Số người chỉ hài lòng với công việc mà không hài lòng với môi trường hay ngược lại cũng có không ít."
   ]
  },
  {
   "cell_type": "markdown",
   "id": "80a2fed0",
   "metadata": {},
   "source": [
    "### Bar chart"
   ]
  },
  {
   "cell_type": "markdown",
   "id": "6eefb0ad",
   "metadata": {},
   "source": [
    "..."
   ]
  },
  {
   "cell_type": "markdown",
   "id": "f720a07c",
   "metadata": {},
   "source": [
    "**Biểu đồ tỉ lệ tăng lương theo hiệu suất nhân viên**"
   ]
  },
  {
   "cell_type": "markdown",
   "id": "d4250b7b",
   "metadata": {},
   "source": [
    "Trường dữ liệu: `PerformanceRating`, `PercentSalaryHike`\n",
    "\n",
    "Ý nghĩa: Thể hiện tỉ lệ tăng lương theo hiệu suất nhân viên, qua đó so sánh tỉ lệ tăng lương giữa các hiệu suất làm việc.\n",
    "\n",
    "Lý do chọn biểu đồ: Biểu đồ cột dễ so sánh, với mỗi cột sẽ thể hiện tỉ lệ tăng lương của một giá trị hiệu suất làm việc."
   ]
  },
  {
   "cell_type": "markdown",
   "id": "8300703f",
   "metadata": {},
   "source": [
    "Do mối người đều có tỉ lệ tăng lương khác nhau nên chúng ta sẽ tính tỉ lệ tăng lương trung bình với mỗi hiệu suất làm viêc."
   ]
  },
  {
   "cell_type": "code",
   "execution_count": 22,
   "id": "d4815957",
   "metadata": {},
   "outputs": [
    {
     "data": {
      "text/plain": [
       "PerformanceRating\n",
       "3    14.003215\n",
       "4    21.849558\n",
       "Name: PercentSalaryHike, dtype: float64"
      ]
     },
     "execution_count": 22,
     "metadata": {},
     "output_type": "execute_result"
    }
   ],
   "source": [
    "x = data.groupby('PerformanceRating')['PercentSalaryHike'].mean()\n",
    "x"
   ]
  },
  {
   "cell_type": "code",
   "execution_count": 23,
   "id": "8f229a63",
   "metadata": {},
   "outputs": [
    {
     "data": {
      "image/png": "[encoded data removed]",
      "text/plain": [
       "<Figure size 640x480 with 1 Axes>"
      ]
     },
     "metadata": {},
     "output_type": "display_data"
    }
   ],
   "source": [
    "# creating the bar plot\n",
    "plt.bar(x.index, x.values)\n",
    " \n",
    "plt.xlabel(\"Hiệu suất nhân viên\")\n",
    "plt.ylabel(\"Tỉ lệ tăng lương\")\n",
    "plt.title(\"Tỉ lệ tăng lương theo hiệu suất nhân viên\")\n",
    "plt.show()"
   ]
  },
  {
   "cell_type": "markdown",
   "id": "093cc259",
   "metadata": {},
   "source": [
    "Nhận xét:\n",
    "- Hiệu suất làm việc cao hơn thì tỉ lệ tăng lương cao hơn rất nhiều."
   ]
  },
  {
   "cell_type": "code",
   "execution_count": null,
   "id": "f4c84b11",
   "metadata": {},
   "outputs": [],
   "source": []
  }
 ],
 "metadata": {
  "kernelspec": {
   "display_name": "Python 3 (ipykernel)",
   "language": "python",
   "name": "python3"
  },
  "language_info": {
   "codemirror_mode": {
    "name": "ipython",
    "version": 3
   },
   "file_extension": ".py",
   "mimetype": "text/x-python",
   "name": "python",
   "nbconvert_exporter": "python",
   "pygments_lexer": "ipython3",
   "version": "3.8.8"
  }
 },
 "nbformat": 4,
 "nbformat_minor": 5
}
